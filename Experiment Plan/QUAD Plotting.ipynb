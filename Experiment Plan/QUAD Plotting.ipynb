import random
import matplotlib.pyplot as plt

RSEmax = 4

def const_query(num_of_qry):
    total_vols = 0
    all_combinations = {(start, end) for start in range(1, RSEmax + 1) for end in range(start, RSEmax + 1)}
    for i in range(100):
        vol_tracker = set()
        vol_sum = 0

        parent = all_combinations.copy()
        for v in range(num_of_qry):              
            if len(parent) > 0:
                child = random.choice(list(parent))
                parent.remove(child) 

                if child not in vol_tracker:
                    vol_tracker.add(child)
                    vol_sum += 1

            else:
                vol_sum = len(all_combinations)

        total_vols += vol_sum
    return total_vols / 100

x_axis = []
y_axis = []
for v in range(0, 20):
    x_axis.append(v)
    y_axis.append(const_query(v))

plt.plot(x_axis, y_axis)
plt.xlabel("No. of queries")
plt.ylabel("No. of unique volumes")
plt.title("Total unique volumes against number of queries")
plt.show()
