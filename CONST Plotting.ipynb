{
 "cells": [
  {
   "cell_type": "code",
   "execution_count": 1,
   "metadata": {},
   "outputs": [
    {
     "ename": "FileNotFoundError",
     "evalue": "[Errno 2] No such file or directory: 'Benito-s-Bento-Boxes/NRSE/file1.txt'",
     "output_type": "error",
     "traceback": [
      "\u001b[1;31m---------------------------------------------------------------------------\u001b[0m",
      "\u001b[1;31mFileNotFoundError\u001b[0m                         Traceback (most recent call last)",
      "Cell \u001b[1;32mIn[1], line 37\u001b[0m\n\u001b[0;32m     35\u001b[0m \u001b[38;5;28;01mfor\u001b[39;00m i \u001b[38;5;129;01min\u001b[39;00m \u001b[38;5;28mrange\u001b[39m(\u001b[38;5;241m1\u001b[39m,\u001b[38;5;241m50\u001b[39m):\n\u001b[0;32m     36\u001b[0m     x_axis\u001b[38;5;241m.\u001b[39mappend(i)\n\u001b[1;32m---> 37\u001b[0m     y_axis\u001b[38;5;241m.\u001b[39mappend(const_query(i))\n\u001b[0;32m     39\u001b[0m plt\u001b[38;5;241m.\u001b[39mplot(x_axis, y_axis)\n\u001b[0;32m     40\u001b[0m plt\u001b[38;5;241m.\u001b[39mxlabel(\u001b[38;5;124m\"\u001b[39m\u001b[38;5;124mNo. of queries\u001b[39m\u001b[38;5;124m\"\u001b[39m)  \u001b[38;5;66;03m# add X-axis label\u001b[39;00m\n",
      "Cell \u001b[1;32mIn[1], line 9\u001b[0m, in \u001b[0;36mconst_query\u001b[1;34m(num_of_qry)\u001b[0m\n\u001b[0;32m      6\u001b[0m my_dict \u001b[38;5;241m=\u001b[39m {}\n\u001b[0;32m      8\u001b[0m \u001b[38;5;28;01mfor\u001b[39;00m i \u001b[38;5;129;01min\u001b[39;00m \u001b[38;5;28mrange\u001b[39m(\u001b[38;5;241m1\u001b[39m, \u001b[38;5;241m16\u001b[39m):\n\u001b[1;32m----> 9\u001b[0m     \u001b[38;5;28;01mwith\u001b[39;00m \u001b[38;5;28mopen\u001b[39m(\u001b[38;5;124mf\u001b[39m\u001b[38;5;124m\"\u001b[39m\u001b[38;5;124mBenito-s-Bento-Boxes/NRSE/file\u001b[39m\u001b[38;5;132;01m{\u001b[39;00mi\u001b[38;5;132;01m}\u001b[39;00m\u001b[38;5;124m.txt\u001b[39m\u001b[38;5;124m\"\u001b[39m, \u001b[38;5;124m\"\u001b[39m\u001b[38;5;124mw+\u001b[39m\u001b[38;5;124m\"\u001b[39m) \u001b[38;5;28;01mas\u001b[39;00m file:\n\u001b[0;32m     10\u001b[0m         my_dict[i] \u001b[38;5;241m=\u001b[39m file\n\u001b[0;32m     12\u001b[0m total_vols \u001b[38;5;241m=\u001b[39m \u001b[38;5;241m0\u001b[39m\n",
      "File \u001b[1;32md:\\Anaconda\\Lib\\site-packages\\IPython\\core\\interactiveshell.py:286\u001b[0m, in \u001b[0;36m_modified_open\u001b[1;34m(file, *args, **kwargs)\u001b[0m\n\u001b[0;32m    279\u001b[0m \u001b[38;5;28;01mif\u001b[39;00m file \u001b[38;5;129;01min\u001b[39;00m {\u001b[38;5;241m0\u001b[39m, \u001b[38;5;241m1\u001b[39m, \u001b[38;5;241m2\u001b[39m}:\n\u001b[0;32m    280\u001b[0m     \u001b[38;5;28;01mraise\u001b[39;00m \u001b[38;5;167;01mValueError\u001b[39;00m(\n\u001b[0;32m    281\u001b[0m         \u001b[38;5;124mf\u001b[39m\u001b[38;5;124m\"\u001b[39m\u001b[38;5;124mIPython won\u001b[39m\u001b[38;5;124m'\u001b[39m\u001b[38;5;124mt let you open fd=\u001b[39m\u001b[38;5;132;01m{\u001b[39;00mfile\u001b[38;5;132;01m}\u001b[39;00m\u001b[38;5;124m by default \u001b[39m\u001b[38;5;124m\"\u001b[39m\n\u001b[0;32m    282\u001b[0m         \u001b[38;5;124m\"\u001b[39m\u001b[38;5;124mas it is likely to crash IPython. If you know what you are doing, \u001b[39m\u001b[38;5;124m\"\u001b[39m\n\u001b[0;32m    283\u001b[0m         \u001b[38;5;124m\"\u001b[39m\u001b[38;5;124myou can use builtins\u001b[39m\u001b[38;5;124m'\u001b[39m\u001b[38;5;124m open.\u001b[39m\u001b[38;5;124m\"\u001b[39m\n\u001b[0;32m    284\u001b[0m     )\n\u001b[1;32m--> 286\u001b[0m \u001b[38;5;28;01mreturn\u001b[39;00m io_open(file, \u001b[38;5;241m*\u001b[39margs, \u001b[38;5;241m*\u001b[39m\u001b[38;5;241m*\u001b[39mkwargs)\n",
      "\u001b[1;31mFileNotFoundError\u001b[0m: [Errno 2] No such file or directory: 'Benito-s-Bento-Boxes/NRSE/file1.txt'"
     ]
    }
   ],
   "source": [
    "import random \n",
    "import matplotlib.pyplot as plt\n",
    "import numpy as np\n",
    "\n",
    "def const_query(num_of_qry):\n",
    "    my_dict = {}\n",
    "\n",
    "    for i in range(1, 16):\n",
    "        with open(f\"Benito-s-Bento-Boxes/NRSE/file{i}.txt\", \"w+\") as file:\n",
    "            my_dict[i] = file\n",
    "\n",
    "    total_vols = 0\n",
    "\n",
    "    for i in range(1,100):\n",
    "        for i in range(num_of_qry):\n",
    "\n",
    "            vol_tracker = set()\n",
    "            vol_sum = 0\n",
    "\n",
    "            start_int = random.randint(1,16)\n",
    "            end_int = random.randint(start_int,16)\n",
    "\n",
    "            for j in range(start_int, end_int):\n",
    "                if my_dict[j] not in vol_tracker:\n",
    "                    vol_tracker.add(j)\n",
    "                    vol_sum += 1\n",
    "            total_vols += vol_sum\n",
    "        \n",
    "    \n",
    "    return total_vols / 100 \n",
    "\n",
    "\n",
    "x_axis = []\n",
    "y_axis = []\n",
    "for i in range(1,50):\n",
    "    x_axis.append(i)\n",
    "    y_axis.append(const_query(i))\n",
    "\n",
    "plt.plot(x_axis, y_axis)\n",
    "plt.xlabel(\"No. of queries\")  # add X-axis label\n",
    "plt.ylabel(\"No. of volumes\")  # add Y-axis label\n",
    "plt.title(\"Total Volumes against Number of Queries\")  # add title\n",
    "plt.show()\n"
   ]
  }
 ],
 "metadata": {
  "kernelspec": {
   "display_name": "base",
   "language": "python",
   "name": "python3"
  },
  "language_info": {
   "codemirror_mode": {
    "name": "ipython",
    "version": 3
   },
   "file_extension": ".py",
   "mimetype": "text/x-python",
   "name": "python",
   "nbconvert_exporter": "python",
   "pygments_lexer": "ipython3",
   "version": "3.11.5"
  }
 },
 "nbformat": 4,
 "nbformat_minor": 2
}
