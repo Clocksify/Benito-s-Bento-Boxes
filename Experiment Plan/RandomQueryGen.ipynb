{
 "cells": [
  {
   "cell_type": "code",
   "execution_count": null,
   "metadata": {},
   "outputs": [
    {
     "name": "stdout",
     "output_type": "stream",
     "text": [
      "0\n",
      "(4, 4)\n",
      "1\n",
      "(1, 2)\n",
      "0\n",
      "(4, 4)\n",
      "3\n",
      "(1, 4)\n",
      "0\n",
      "(4, 4)\n",
      "1\n",
      "(3, 4)\n",
      "0\n",
      "(3, 3)\n",
      "0\n",
      "(4, 4)\n",
      "2\n",
      "(2, 4)\n",
      "0\n",
      "(3, 3)\n"
     ]
    }
   ],
   "source": [
    "import random\n",
    "RSEmax = 4\n",
    "def query_gen():\n",
    "    query_range_list = []\n",
    "    for i in range (RSEmax):\n",
    "        for j in range (i+1):\n",
    "            query_range_list.append(j)\n",
    "    no_range = random.choice(query_range_list)\n",
    "\n",
    "    first_int = random.randint(1, RSEmax-no_range)\n",
    "    query = (first_int, first_int+no_range)\n",
    "    return(query)\n",
    "\n",
    "\n"
   ]
  }
 ],
 "metadata": {
  "kernelspec": {
   "display_name": "Python 3",
   "language": "python",
   "name": "python3"
  },
  "language_info": {
   "codemirror_mode": {
    "name": "ipython",
    "version": 3
   },
   "file_extension": ".py",
   "mimetype": "text/x-python",
   "name": "python",
   "nbconvert_exporter": "python",
   "pygments_lexer": "ipython3",
   "version": "3.11.9"
  }
 },
 "nbformat": 4,
 "nbformat_minor": 2
}
