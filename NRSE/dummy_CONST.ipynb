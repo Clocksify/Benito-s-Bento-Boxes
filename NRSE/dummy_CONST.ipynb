import random 
import matplotlib.pyplot as plt
import numpy as np

def const_query(num_of_qry):
    my_dict = {}

    for i in range(1, 16):
        with open(f"file{i}.txt", "w") as file:
            my_dict[i] = file

    total_vols = 0

    for i in range(100):
        vol_tracker = set()
        vol_sum = 0
        for i in range(num_of_qry):

            start_int = random.randint(1,3)
            end_int = random.randint(start_int,5)

            for j in range(start_int, end_int+1):
                if j not in vol_tracker:
                    vol_tracker.add(j)
                    vol_sum += 1
            
            if i == num_of_qry-1:
                total_vols += vol_sum
    return total_vols / 100


x_axis = []
y_axis = []
for i in range(1,50):
    x_axis.append(i)
    y_axis.append(const_query(i))

plt.plot(x_axis, y_axis)
plt.xlabel("No. of queries")  # add X-axis label
plt.ylabel("No. of volumes")  # add Y-axis label
plt.title("Total Volumes against Number of Queries")  # add title
plt.show()         
