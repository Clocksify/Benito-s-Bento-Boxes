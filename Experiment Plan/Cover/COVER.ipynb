{
 "cells": [
  {
   "cell_type": "code",
   "execution_count": 65,
   "metadata": {},
   "outputs": [
    {
     "name": "stdout",
     "output_type": "stream",
     "text": [
      "0 counter\n",
      "3 penis\n",
      "3\n",
      "1 counter\n",
      "3 penis\n",
      "4\n",
      "0 counter\n",
      "5 penis\n",
      "5\n",
      "1 counter\n",
      "5 penis\n",
      "6\n",
      "2 counter\n",
      "6 penis\n",
      "8\n",
      "0 counter\n",
      "9 penis\n",
      "9\n",
      "1 counter\n",
      "9 penis\n",
      "10\n",
      "2 counter\n",
      "10 penis\n",
      "12\n",
      "3 counter\n",
      "12 penis\n",
      "16\n",
      "[(3, 4), (5, 8), (9, 16)]\n"
     ]
    }
   ],
   "source": [
    "import math \n",
    "RSEmax = 16\n",
    "b = 0\n",
    "query_list = []\n",
    "def cover_log(start_int, end_int):\n",
    "    while start_int <= end_int:\n",
    "        b = start_int\n",
    "        for i in range(int(math.log(RSEmax, 2))):\n",
    "            print(i, 'counter')\n",
    "            print(b, 'penis') \n",
    "            if start_int + (2**i -1) > end_int:\n",
    "                break\n",
    "            else:    \n",
    "                b = start_int + (2**i -1)\n",
    "                print(b)\n",
    "            if start_int % 2**(i+1) !=  1:\n",
    "                break\n",
    "        node = (start_int, b)\n",
    "        query_list.append(node)\n",
    "        start_int = b+1\n",
    "\n",
    "\n",
    "cover_log(3,16)\n",
    "\n",
    "print(query_list)\n",
    "\n",
    "\n"
   ]
  }
 ],
 "metadata": {
  "kernelspec": {
   "display_name": "Python 3",
   "language": "python",
   "name": "python3"
  },
  "language_info": {
   "codemirror_mode": {
    "name": "ipython",
    "version": 3
   },
   "file_extension": ".py",
   "mimetype": "text/x-python",
   "name": "python",
   "nbconvert_exporter": "python",
   "pygments_lexer": "ipython3",
   "version": "3.11.9"
  }
 },
 "nbformat": 4,
 "nbformat_minor": 2
}
