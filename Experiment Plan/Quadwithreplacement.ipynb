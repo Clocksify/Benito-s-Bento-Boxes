{
 "cells": [
  {
   "cell_type": "code",
   "execution_count": null,
   "metadata": {},
   "outputs": [],
   "source": [
    "import random\n",
    "import matplotlib.pyplot as plt\n",
    "\n",
    "def query_gen():\n",
    "    query_range_list = []\n",
    "    possible_queries = []\n",
    "    for i in range (RSEmax):\n",
    "        for j in range (i+1):\n",
    "            query_range_list.append(j)\n",
    "    no_range = random.choice(query_range_list)\n",
    "\n",
    "    e = 1\n",
    "    while e+no_range <= RSEmax:\n",
    "        node = (e, e+no_range)\n",
    "        possible_queries.append(node)\n",
    "        e += 1\n",
    "    query = random.choice(possible_queries)\n",
    "    return(query)\n",
    "\n",
    "RSEmax = 256\n",
    "no_of_runs = 100\n",
    "no_of_queries = 100000\n",
    "def quad_query(a,b):\n",
    "    arr = [0 for i in range(b+1)]\n",
    "    for h in range(a):\n",
    "        vol_tracker = []\n",
    "        vol_sum = 0\n",
    "        for j in range(b):\n",
    "            query_asked = query_gen()\n",
    "            if query_asked not in vol_tracker:\n",
    "                vol_tracker.append(query_asked)\n",
    "                vol_sum +=1\n",
    "            arr[j+1] = arr[j+1] + vol_sum\n",
    "    for i in range(b):\n",
    "        arr[i+1] = arr[i+1] /a\n",
    "    return(arr)\n",
    "\n",
    "arr = quad_query(no_of_runs,no_of_queries) \n",
    "\n",
    "\n",
    "plt.style.use('_mpl-gallery')\n",
    "plt.figure(figsize=(10,6))\n",
    "plt.plot(arr)\n",
    "plt.xlabel(\"No. of queries\")  \n",
    "plt.ylabel(\"No. of volumes\")  \n",
    "plt.title(\"Total Volumes against Number of Queries\")  \n",
    "plt.show()\n"
   ]
  }
 ],
 "metadata": {
  "kernelspec": {
   "display_name": "Python 3",
   "language": "python",
   "name": "python3"
  },
  "language_info": {
   "codemirror_mode": {
    "name": "ipython",
    "version": 3
   },
   "file_extension": ".py",
   "mimetype": "text/x-python",
   "name": "python",
   "nbconvert_exporter": "python",
   "pygments_lexer": "ipython3",
   "version": "3.11.9"
  }
 },
 "nbformat": 4,
 "nbformat_minor": 2
}
