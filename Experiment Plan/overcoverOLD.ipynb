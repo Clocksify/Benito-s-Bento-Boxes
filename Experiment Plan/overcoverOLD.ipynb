{
 "cells": [
  {
   "cell_type": "code",
   "execution_count": null,
   "metadata": {},
   "outputs": [],
   "source": [
    "import math\n",
    "\n",
    "def overcover(a, b):\n",
    "    for n in range(1, int(math.log((RSEmax), 2)+1)):\n",
    "        if a == b:\n",
    "            return ((a, b))\n",
    "        elif (b - a) == 2**n - 1:\n",
    "            if a % 2**n == 1:\n",
    "                return ((a, b))\n",
    "            else:\n",
    "                for N in range(n+1, int(math.log((RSEmax), 2)+1)):\n",
    "                    for i in range(0, a):\n",
    "                        if (a-i) % 2**N == 1 and a-i+2**(N)-1 >= b:\n",
    "                            return ((a-i, a-i+2**(N)-1))\n",
    "                        else:\n",
    "                            continue\n",
    "        elif (b - a) < 2**n - 1:\n",
    "            for m in range(n, int(math.log((RSEmax), 2)+1)):\n",
    "                for j in range(0, a):\n",
    "                    if (a-j) % 2**m == 1 and a-j+2**(m)-1 >= b:\n",
    "                        return ((a-j, a-j+2**(m)-1))\n",
    "                    else:\n",
    "                        continue\n",
    "\n",
    "\n",
    "print(overcover(17, 25))\n",
    "\n",
    "RSEmax = 32"
   ]
  }
 ],
 "metadata": {
  "language_info": {
   "name": "python"
  }
 },
 "nbformat": 4,
 "nbformat_minor": 2
}
