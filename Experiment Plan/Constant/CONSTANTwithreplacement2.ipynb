{
 "cells": [
  {
   "cell_type": "code",
   "execution_count": null,
   "metadata": {},
   "outputs": [],
   "source": [
    "import random\n",
    "import matplotlib.pyplot as plt\n",
    "\n",
    "RSEmax = 2048\n",
    "no_of_runs = 200\n",
    "no_of_queries = 10000\n",
    "\n",
    "query_range_list = []\n",
    "for i in range (RSEmax):\n",
    "    for j in range (i+1):\n",
    "        query_range_list.append(j)\n",
    "\n",
    "def askqry():\n",
    "    no_range = random.choice(query_range_list)\n",
    "\n",
    "    first_int = random.randint(1, RSEmax-no_range)\n",
    "    query = (first_int, first_int+no_range)\n",
    "    return(query)\n",
    "\n",
    "max_volumes = 100000\n",
    "def cont_query(no_of_runs, no_of_queries):\n",
    "    arr = [0 for i in range(no_of_queries+1)]\n",
    "    for h in range(no_of_runs):\n",
    "        vol_tracker = []\n",
    "        vol_sum = 0\n",
    "        for j in range(no_of_queries):\n",
    "            (start_int, end_int) = askqry()\n",
    "            if len(vol_tracker) >= max_volumes:\n",
    "                when_max_reach = j\n",
    "                for v in range(when_max_reach-1, no_of_queries):\n",
    "                    arr[v+1] = max_volumes*no_of_runs\n",
    "                break\n",
    "            else:\n",
    "                for i in range(start_int, end_int+1):\n",
    "                    if i not in vol_tracker:\n",
    "                        vol_tracker.append(i)\n",
    "                        vol_sum += 1\n",
    "                arr[j+1] =  arr[j+1] + vol_sum\n",
    "    for i in range(no_of_queries):\n",
    "        arr[i+1]= arr[i+1] / no_of_runs\n",
    "    print(arr)\n",
    "    return(arr)\n",
    "\n",
    "arr = cont_query(no_of_runs, no_of_queries)\n",
    "\n",
    "plt.style.use('_mpl-gallery')\n",
    "plt.figure(figsize=(10,6))\n",
    "plt.plot(arr)\n",
    "plt.xlabel(\"No. of queries\")  \n",
    "plt.ylabel(\"No. of volumes\")  \n",
    "plt.title(\"Total Volumes against Number of Queries\")  \n",
    "plt.show()"
   ]
  }
 ],
 "metadata": {
  "kernelspec": {
   "display_name": "Python 3",
   "language": "python",
   "name": "python3"
  },
  "language_info": {
   "codemirror_mode": {
    "name": "ipython",
    "version": 3
   },
   "file_extension": ".py",
   "mimetype": "text/x-python",
   "name": "python",
   "nbconvert_exporter": "python",
   "pygments_lexer": "ipython3",
   "version": "3.11.9"
  }
 },
 "nbformat": 4,
 "nbformat_minor": 2
}
