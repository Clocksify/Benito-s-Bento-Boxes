{
 "cells": [
  {
   "cell_type": "code",
   "execution_count": 1,
   "metadata": {},
   "outputs": [
    {
     "name": "stdout",
     "output_type": "stream",
     "text": [
      "0.8355307236803408\n"
     ]
    }
   ],
   "source": [
    "import random \n",
    "import math\n",
    "RSEmax = 2048\n",
    "\n",
    "def is_power_of_two(x):\n",
    "    return (x & (x - 1)) == 0\n",
    "\n",
    "def overcover(start, end):\n",
    "    diff = (end - start) - 1\n",
    "    while True:\n",
    "        diff += 1\n",
    "        if is_power_of_two(diff + 1):  # Check if diff + 1 is a power of 2\n",
    "            N = math.log(diff + 1, 2)\n",
    "            break\n",
    "    if start == end:\n",
    "        return (start, end)\n",
    "    elif start == end - 1:\n",
    "        return (start, end)\n",
    "    else:\n",
    "        for i in range(int(N), int(math.log(RSEmax, 2)) + 1):  # Ensure N is an integer\n",
    "            for j in range(0, start):\n",
    "                if (start - j) % 2**(i-1) == 1:\n",
    "                    if start - j + 2**i - 1 >= end:\n",
    "                        return (start - j, start - j + 2**i - 1)\n",
    "                    else:\n",
    "                        break\n",
    "\n",
    "query_range_list = []\n",
    "for i in range (RSEmax):\n",
    "    for j in range (i+1):\n",
    "        query_range_list.append(j)\n",
    "\n",
    "def query_gen():\n",
    "    no_range = random.choice(query_range_list)\n",
    "\n",
    "    first_int = random.randint(1, RSEmax-no_range)\n",
    "    query = (first_int, first_int+no_range)\n",
    "    return(query)\n",
    "\n",
    "\n",
    "no_of_queries = 3000000\n",
    "def overcover_query(no_of_queries):\n",
    "    arr = 0\n",
    "    query_tracker = set()\n",
    "    for j in range(no_of_queries):\n",
    "        query_asked = query_gen()\n",
    "        if len(query_tracker) == int((RSEmax*(RSEmax + 1))/2):\n",
    "            arr = arr / int((RSEmax*(RSEmax + 1))/2)\n",
    "            return(arr)\n",
    "        while query_asked in query_tracker:\n",
    "            query_asked = query_gen()\n",
    "        else:\n",
    "            query_tracker.add(query_asked)\n",
    "            (a,b) = query_asked\n",
    "            (ovr_start, ovr_end) = overcover(a,b)\n",
    "            diff = (ovr_end - ovr_start+1 ) - (b - a +1)\n",
    "            percentage = diff / (b - a +1)\n",
    "            arr = arr + percentage\n",
    "\n",
    "\n",
    "arr = overcover_query(no_of_queries) \n",
    "print(arr)"
   ]
  }
 ],
 "metadata": {
  "kernelspec": {
   "display_name": "Python 3",
   "language": "python",
   "name": "python3"
  },
  "language_info": {
   "codemirror_mode": {
    "name": "ipython",
    "version": 3
   },
   "file_extension": ".py",
   "mimetype": "text/x-python",
   "name": "python",
   "nbconvert_exporter": "python",
   "pygments_lexer": "ipython3",
   "version": "3.11.9"
  }
 },
 "nbformat": 4,
 "nbformat_minor": 2
}
